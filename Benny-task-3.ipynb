{
 "cells": [
  {
   "cell_type": "markdown",
   "id": "1bfba496-fbb3-4128-b22e-b50534e60dde",
   "metadata": {},
   "source": [
    "## 4.1 \n",
    "Choose a number between 1 and 10 and assign it to the variable secret.  Then, select another number between 1 and 10 and assign it to th variable \n",
    " gues . Next, write the conditional tests (if, else, and elif) to print t \r\n",
    " string 'too low' if guess is less than secret, 'too high' if greater t n\r\n",
    " secret, and 'just right' if equal to secret."
   ]
  },
  {
   "cell_type": "code",
   "execution_count": 18,
   "id": "b355bee0-d60f-4448-8a18-8ba630189e59",
   "metadata": {},
   "outputs": [
    {
     "name": "stdout",
     "output_type": "stream",
     "text": [
      "too low\n"
     ]
    }
   ],
   "source": [
    "# Choose a number between 1 and 10 and assign it to the variable secret\n",
    "secret = 4\n",
    "\n",
    "# Then, select another number between 1 and 10 and assign it to the variable guess.\n",
    "guess = 3\n",
    "\n",
    "# Next, write the conditional tests (if, else, and elif) to print the\n",
    "# string 'too low' if guess is less than secret, 'too high' if greater than\n",
    "# secret, and 'just right' if equal to secret\n",
    "if (guess > secret):\n",
    "    print('too high')\n",
    "elif (guess == secret):\n",
    "    print('just right')\n",
    "else:\n",
    "    print('too low')\n",
    "    "
   ]
  },
  {
   "cell_type": "markdown",
   "id": "0f896000-0476-4fe2-b43e-7d3828336685",
   "metadata": {},
   "source": [
    "## 4.2\n",
    "Assign True or False to the variables small and green. Write some\r\n",
    " if/else statements to print which of these matches those choices: cherry,\r\n",
    " pea, watermelon, pumpkin"
   ]
  },
  {
   "cell_type": "code",
   "execution_count": 24,
   "id": "fbd9208e-7cfe-4a1e-92cd-8dc23ee30d39",
   "metadata": {},
   "outputs": [
    {
     "name": "stdout",
     "output_type": "stream",
     "text": [
      "pea\n"
     ]
    }
   ],
   "source": [
    "# Assign values to small and green\n",
    "small = True\n",
    "green = True\n",
    "\n",
    "# Check the characteristics and print matching options\n",
    "if small and green:\n",
    "    print(\"pea\")\n",
    "elif small and not green:\n",
    "    print(\"cherry\")\n",
    "elif not small and green:\n",
    "    print(\"watermelon\")\n",
    "elif not small and not green:\n",
    "    print(\"pumpkin\")"
   ]
  },
  {
   "cell_type": "markdown",
   "id": "867a172a-ddee-4ba2-b731-d3225980ff88",
   "metadata": {},
   "source": [
    "## 6.1 \n",
    "\n",
    "Use a for loop to print the values of the list [3, 2, 1, 0]."
   ]
  },
  {
   "cell_type": "code",
   "execution_count": 28,
   "id": "b3132830-6ddc-4141-be3a-3bb05bda7cac",
   "metadata": {},
   "outputs": [
    {
     "name": "stdout",
     "output_type": "stream",
     "text": [
      "3\n",
      "2\n",
      "1\n",
      "0\n"
     ]
    }
   ],
   "source": [
    "for i in [3,2,1,0]:\n",
    "    print(i)"
   ]
  },
  {
   "cell_type": "markdown",
   "id": "7cad65c5-7b57-4083-bcf2-ee873f9f6d41",
   "metadata": {},
   "source": [
    "##  6.2 \n",
    "\n",
    "Assign the value 7 to the variable guess_me, and the value 1 to the variable number. Write a while loop that compares number with guess_me. Print 'too low' if number is less than guess me. If number equals guess_me, print 'found it!' and then exit the loop. If number is greater than guess_me, print 'oops' and then exit the loop. Increment number at the end of the loop."
   ]
  },
  {
   "cell_type": "code",
   "execution_count": 31,
   "id": "d0d27865-f093-47da-8c37-5506366ee37d",
   "metadata": {},
   "outputs": [
    {
     "name": "stdout",
     "output_type": "stream",
     "text": [
      "too low\n",
      "too low\n",
      "too low\n",
      "too low\n",
      "too low\n",
      "too low\n",
      "found it!\n"
     ]
    }
   ],
   "source": [
    "# Assign initial values to variables\n",
    "guess_me = 7\n",
    "number = 1\n",
    "\n",
    "# While loop to compare number with guess_me\n",
    "while True:\n",
    "    if number < guess_me:\n",
    "        print(\"too low\")\n",
    "    elif number == guess_me:\n",
    "        print(\"found it!\")\n",
    "        break\n",
    "    else:\n",
    "        print(\"oops\")\n",
    "        break\n",
    "    number += 1  # Increment number at the end of the loop"
   ]
  },
  {
   "cell_type": "markdown",
   "id": "36a28328-8e20-4e51-a52f-778435df3055",
   "metadata": {},
   "source": [
    "## 6.3 \n",
    " \n",
    " Assign the value 5 to the variable guess_me. Use a for loop to iterate a\r\n",
    " variable called number over range(10). If number is less than guess_me,\r\n",
    " print 'too low'. If it equals guess_me, print found it! and then break out\r\n",
    " of the for loop. If number is greater than guess_me, print 'oops' and then\r\n",
    " exit the loop."
   ]
  },
  {
   "cell_type": "code",
   "execution_count": 35,
   "id": "fda6fa84-83f4-41df-ac54-a6b3baa47834",
   "metadata": {},
   "outputs": [
    {
     "name": "stdout",
     "output_type": "stream",
     "text": [
      "too low\n",
      "too low\n",
      "too low\n",
      "too low\n",
      "too low\n",
      "found it!\n"
     ]
    }
   ],
   "source": [
    "# Assign the value to guess_me\n",
    "guess_me = 5\n",
    "\n",
    "# Use a for loop to iterate over the range of 10\n",
    "for number in range(10):\n",
    "    if number < guess_me:\n",
    "        print(\"too low\")\n",
    "    elif number == guess_me:\n",
    "        print(\"found it!\")\n",
    "        break\n",
    "    else:\n",
    "        print(\"oops\")\n",
    "        break"
   ]
  },
  {
   "cell_type": "code",
   "execution_count": null,
   "id": "3cd86732-7d71-443a-b12b-5f8617cc21da",
   "metadata": {},
   "outputs": [],
   "source": []
  }
 ],
 "metadata": {
  "kernelspec": {
   "display_name": "Python 3 (ipykernel)",
   "language": "python",
   "name": "python3"
  },
  "language_info": {
   "codemirror_mode": {
    "name": "ipython",
    "version": 3
   },
   "file_extension": ".py",
   "mimetype": "text/x-python",
   "name": "python",
   "nbconvert_exporter": "python",
   "pygments_lexer": "ipython3",
   "version": "3.11.7"
  }
 },
 "nbformat": 4,
 "nbformat_minor": 5
}
